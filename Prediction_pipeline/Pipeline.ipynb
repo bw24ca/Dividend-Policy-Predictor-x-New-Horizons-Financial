{
  "nbformat": 4,
  "nbformat_minor": 0,
  "metadata": {
    "colab": {
      "provenance": []
    },
    "kernelspec": {
      "name": "python3",
      "display_name": "Python 3"
    },
    "language_info": {
      "name": "python"
    }
  },
  "cells": [
    {
      "cell_type": "code",
      "source": [
        "!pip install imbalanced-learn\n",
        "!pip install --upgrade pandas\n",
        "!pip install optuna\n",
        "!pip install xgboost\n",
        "!pip install python-dotenv"
      ],
      "metadata": {
        "colab": {
          "base_uri": "https://localhost:8080/"
        },
        "id": "zgXnHqfOTyoh",
        "outputId": "9a63e4ff-8958-4e19-daf4-1192a2da7e6a"
      },
      "execution_count": 1,
      "outputs": [
        {
          "output_type": "stream",
          "name": "stdout",
          "text": [
            "Requirement already satisfied: imbalanced-learn in /usr/local/lib/python3.10/dist-packages (0.10.1)\n",
            "Requirement already satisfied: numpy>=1.17.3 in /usr/local/lib/python3.10/dist-packages (from imbalanced-learn) (1.25.2)\n",
            "Requirement already satisfied: scipy>=1.3.2 in /usr/local/lib/python3.10/dist-packages (from imbalanced-learn) (1.11.4)\n",
            "Requirement already satisfied: scikit-learn>=1.0.2 in /usr/local/lib/python3.10/dist-packages (from imbalanced-learn) (1.2.2)\n",
            "Requirement already satisfied: joblib>=1.1.1 in /usr/local/lib/python3.10/dist-packages (from imbalanced-learn) (1.4.2)\n",
            "Requirement already satisfied: threadpoolctl>=2.0.0 in /usr/local/lib/python3.10/dist-packages (from imbalanced-learn) (3.5.0)\n",
            "Requirement already satisfied: pandas in /usr/local/lib/python3.10/dist-packages (2.2.2)\n",
            "Requirement already satisfied: numpy>=1.22.4 in /usr/local/lib/python3.10/dist-packages (from pandas) (1.25.2)\n",
            "Requirement already satisfied: python-dateutil>=2.8.2 in /usr/local/lib/python3.10/dist-packages (from pandas) (2.8.2)\n",
            "Requirement already satisfied: pytz>=2020.1 in /usr/local/lib/python3.10/dist-packages (from pandas) (2023.4)\n",
            "Requirement already satisfied: tzdata>=2022.7 in /usr/local/lib/python3.10/dist-packages (from pandas) (2024.1)\n",
            "Requirement already satisfied: six>=1.5 in /usr/local/lib/python3.10/dist-packages (from python-dateutil>=2.8.2->pandas) (1.16.0)\n",
            "Requirement already satisfied: optuna in /usr/local/lib/python3.10/dist-packages (3.6.1)\n",
            "Requirement already satisfied: alembic>=1.5.0 in /usr/local/lib/python3.10/dist-packages (from optuna) (1.13.1)\n",
            "Requirement already satisfied: colorlog in /usr/local/lib/python3.10/dist-packages (from optuna) (6.8.2)\n",
            "Requirement already satisfied: numpy in /usr/local/lib/python3.10/dist-packages (from optuna) (1.25.2)\n",
            "Requirement already satisfied: packaging>=20.0 in /usr/local/lib/python3.10/dist-packages (from optuna) (24.0)\n",
            "Requirement already satisfied: sqlalchemy>=1.3.0 in /usr/local/lib/python3.10/dist-packages (from optuna) (2.0.30)\n",
            "Requirement already satisfied: tqdm in /usr/local/lib/python3.10/dist-packages (from optuna) (4.66.4)\n",
            "Requirement already satisfied: PyYAML in /usr/local/lib/python3.10/dist-packages (from optuna) (6.0.1)\n",
            "Requirement already satisfied: Mako in /usr/local/lib/python3.10/dist-packages (from alembic>=1.5.0->optuna) (1.3.5)\n",
            "Requirement already satisfied: typing-extensions>=4 in /usr/local/lib/python3.10/dist-packages (from alembic>=1.5.0->optuna) (4.11.0)\n",
            "Requirement already satisfied: greenlet!=0.4.17 in /usr/local/lib/python3.10/dist-packages (from sqlalchemy>=1.3.0->optuna) (3.0.3)\n",
            "Requirement already satisfied: MarkupSafe>=0.9.2 in /usr/local/lib/python3.10/dist-packages (from Mako->alembic>=1.5.0->optuna) (2.1.5)\n",
            "Requirement already satisfied: xgboost in /usr/local/lib/python3.10/dist-packages (2.0.3)\n",
            "Requirement already satisfied: numpy in /usr/local/lib/python3.10/dist-packages (from xgboost) (1.25.2)\n",
            "Requirement already satisfied: scipy in /usr/local/lib/python3.10/dist-packages (from xgboost) (1.11.4)\n",
            "Requirement already satisfied: python-dotenv in /usr/local/lib/python3.10/dist-packages (1.0.1)\n"
          ]
        }
      ]
    },
    {
      "cell_type": "code",
      "source": [
        "import pandas as pd\n",
        "import numpy as np\n",
        "import os\n",
        "from dotenv import load_dotenv\n",
        "import warnings\n",
        "import matplotlib.pyplot as plt\n",
        "import seaborn as sns\n",
        "from sklearn.model_selection import train_test_split, StratifiedKFold\n",
        "from imblearn.over_sampling import SMOTENC\n",
        "from sklearn.ensemble import RandomForestClassifier\n",
        "from sklearn.metrics import roc_auc_score, make_scorer\n",
        "from sklearn.neighbors import KNeighborsClassifier\n",
        "from sklearn.linear_model import LogisticRegression\n",
        "from sklearn.tree import DecisionTreeClassifier\n",
        "from sklearn.svm import SVC\n",
        "from sklearn.pipeline import Pipeline\n",
        "from sklearn.preprocessing import OrdinalEncoder, LabelEncoder\n",
        "from sklearn.compose import ColumnTransformer\n",
        "from sklearn.model_selection import cross_val_score, GridSearchCV\n",
        "from sklearn.preprocessing import StandardScaler\n",
        "import pickle\n",
        "import optuna\n",
        "from xgboost import XGBClassifier\n",
        "from sklearn.decomposition import PCA\n",
        "\n",
        "warnings.filterwarnings('ignore')"
      ],
      "metadata": {
        "id": "ZBdHnx9BTzFZ"
      },
      "execution_count": 2,
      "outputs": []
    },
    {
      "cell_type": "code",
      "execution_count": 3,
      "metadata": {
        "id": "sGGULAmjSsdQ"
      },
      "outputs": [],
      "source": [
        "from all_functions import load_and_analyze_data, rank_columns_by_correlation, remove_correlated_features, \\\n",
        "                           split_data, preprocess_data, perform_stratified_cv_with_smote, \\\n",
        "                           feature_importance_analysis, apply_pca, load_models, evaluate_models"
      ]
    },
    {
      "cell_type": "code",
      "source": [
        "def main_pipeline(stock_ticker, split_year):\n",
        "\n",
        "    # Analyze for Correlations and Remove Highly Correlated Features\n",
        "    correlation_df = rank_columns_by_correlation(num_dataset, 0.8)\n",
        "    reduced_dataset = remove_correlated_features(full_dataset, correlation_df)\n",
        "\n",
        "    # Split Data\n",
        "    X_train, y_train, X_test, y_test = split_data(reduced_dataset, split_year)\n",
        "\n",
        "    # Preprocess Data\n",
        "    categorical_columns = ['industry', 'sector', 'symbol']  # Example categorical columns\n",
        "    X_train_transformed, X_test_transformed = preprocess_data(X_train, X_test, categorical_columns)\n",
        "\n",
        "    # Feature Importance Analysis and PCA\n",
        "    selected_features, importance_table = feature_importance_analysis(X_train_transformed, y_train, 0.60)\n",
        "    X_train_pca, X_test_pca, _ = apply_pca(X_train_transformed, X_test_transformed, selected_features)\n",
        "\n",
        "    # Load Models and Evaluate\n",
        "    models = {'Logistic Regression': 'lr.pkl'}\n",
        "    models = load_models(models)\n",
        "    result_df, _ = evaluate_models(models, X_train_pca, y_train, X_test_pca, y_test)\n",
        "\n",
        "    # Join Results with Symbols and Output Specific Prediction\n",
        "    result_df_with_symbols = result_df.join(X_test['symbol'])\n",
        "    if stock_ticker in result_df_with_symbols['symbol'].values:\n",
        "        stock_rows = result_df_with_symbols[result_df_with_symbols['symbol'] == stock_ticker]\n",
        "        logistic_regression_prediction = stock_rows['Predicted_Prob_Logistic Regression'].iloc[1]\n",
        "        print(f\"The Logistic Regression predicted probability for '{stock_ticker}' to decrease dividend is: {logistic_regression_prediction:.4f}\")\n",
        "    else:\n",
        "        print(f\"Stock ticker '{stock_ticker}' is not available. Please enter a valid ticker from the S&P 500 list.\")\n"
      ],
      "metadata": {
        "id": "GpVwQrVor_cX"
      },
      "execution_count": 10,
      "outputs": []
    },
    {
      "cell_type": "code",
      "source": [
        "# Load Data\n",
        "num_dataset, full_dataset = load_and_analyze_data('zero_div_recent_years.csv')\n",
        "if __name__ == \"__main__\":\n",
        "    while True:\n",
        "        stock_ticker = input(\"Enter the stock ticker: \").upper()\n",
        "        split_year = 2023\n",
        "        # Assuming full_dataset is globally accessible or passed somehow\n",
        "        if stock_ticker in full_dataset['symbol'].unique():\n",
        "            main_pipeline(stock_ticker, split_year)\n",
        "            break\n",
        "        else:\n",
        "            print(\"Invalid ticker. Please enter a ticker from the S&P 500 list.\")\n"
      ],
      "metadata": {
        "colab": {
          "base_uri": "https://localhost:8080/"
        },
        "id": "x-Ky0xYlvxJN",
        "outputId": "06139fab-ebe5-432c-a3fc-df53dd6220dc"
      },
      "execution_count": 11,
      "outputs": [
        {
          "output_type": "stream",
          "name": "stdout",
          "text": [
            "Enter the stock ticker: AAPL\n",
            "The Logistic Regression predicted probability for 'AAPL' to decrease dividend is: 0.0104\n"
          ]
        }
      ]
    }
  ]
}